{
 "cells": [
  {
   "cell_type": "markdown",
   "metadata": {
    "slideshow": {
     "slide_type": "slide"
    }
   },
   "source": [
    "# Seminars 9. Intro to Basics of Deep Learning\n",
    "Mikhail Belyaev"
   ]
  },
  {
   "cell_type": "markdown",
   "metadata": {
    "slideshow": {
     "slide_type": "subslide"
    }
   },
   "source": [
    "Intro to DL basics:\n",
    "- Objective functions & Stochastic Gradient Descend;\n",
    " - Multilayer perceptron;\n",
    " - Activation functions (ReLu, Tanh);\n",
    " - Early Stopping;\n",
    " - Dropout;\n",
    " - Convolutional networks.\n",
    " \n",
    "Overview of DL subfields \n",
    " - image classification\n",
    " - image segmentations\n",
    " - networks with memory\n",
    " - reinforcement learning"
   ]
  },
  {
   "cell_type": "markdown",
   "metadata": {
    "slideshow": {
     "slide_type": "slide"
    }
   },
   "source": [
    "## Objective functions"
   ]
  },
  {
   "cell_type": "markdown",
   "metadata": {
    "slideshow": {
     "slide_type": "subslide"
    }
   },
   "source": [
    "Supervised learning algorithms can be considered as an optimization problem.\n",
    "\n",
    "$$ w_{opt} = argmin Q(w); \\quad Q(w) = \\sum_{i=1}^n L(y_i, f(x_i, w)) + R(w) $$\n",
    "\n",
    "where \n",
    " - $n$ is size of the sample,\n",
    " - $w$ are coefficients of the linear model,\n",
    " - $L$ is a loss function,\n",
    " - $f(x_i, w)$ is a decision function;\n",
    " - $R(w)$ is a regularization term."
   ]
  },
  {
   "cell_type": "markdown",
   "metadata": {
    "slideshow": {
     "slide_type": "subslide"
    }
   },
   "source": [
    "For example,\n",
    " - Ridge regression: \n",
    "     $Q(w) = \\sum_i \\left(y_i - (w^T x_i + w_0)\\right)^2 + \\lambda \\sum_{k=1}^p w_k^2 $;\n",
    "     * $f(x_i, w) = w^T x_i + w_0$\n",
    " - Logistic regression with $L_1$ penalty for a binary classification problem\n",
    "     $Q(w) = -\\sum_i (y_i log(p(x_i)) + (1 - y_i) log(1 - p(x_i)) ) + \\lambda \\sum_{k=1}^p |w_k| $;\n",
    "  \n",
    "   * where $p(x_i)$ is output probablity of the classifier\n",
    "    $$p(x_i) = \\frac{exp(f(x_i, w))}{exp(f(x_i, w)) + 1} = \\frac{exp(w^T x_i + w_0)}{exp(w^T x_i + w_0) + 1}$$\n",
    "   * $f(x_i, w) = w^T x_i + w_0$\n",
    "     \n",
    "     \n",
    "For the details of classification loss functions (i.e. multiclass log loss) see [The Elements of Statistical Learning](http://statweb.stanford.edu/~tibs/ElemStatLearn/), chapter 4."
   ]
  },
  {
   "cell_type": "markdown",
   "metadata": {
    "slideshow": {
     "slide_type": "subslide"
    }
   },
   "source": [
    "### Loss functions\n",
    "<div style=\"width:100%; text-align:center\">\n",
    "<img src=http://scikit-learn.org/stable/_images/sphx_glr_plot_sgd_loss_functions_0011.png width=500px>\n",
    "</div>"
   ]
  },
  {
   "cell_type": "markdown",
   "metadata": {
    "slideshow": {
     "slide_type": "subslide"
    }
   },
   "source": [
    "### Penalty functions\n",
    "<div style=\"width:100%; text-align:center\">\n",
    "<img src=http://scikit-learn.org/stable/_images/sphx_glr_plot_sgd_penalties_0011.png width=500px>\n",
    "</div>"
   ]
  },
  {
   "cell_type": "markdown",
   "metadata": {
    "slideshow": {
     "slide_type": "subslide"
    }
   },
   "source": [
    "## Stochastic Gradient Descend (SGD)"
   ]
  },
  {
   "cell_type": "markdown",
   "metadata": {
    "slideshow": {
     "slide_type": "subslide"
    }
   },
   "source": [
    "$$Q(w) = \\sum_{i=1}^n L(y_i, f(x_i, w)) + R(w)$$\n",
    "\n",
    "To fit the classifier, we need the gradient of the objective function\n",
    "$$\\nabla Q(w) = \\sum_{i=1}^n \\nabla L(y_i, f(x_i, w)) + \\nabla R(w) $$\n",
    "\n",
    "SGD is based on the following idea: we can use a small fraction of points to (stochastically) estimate the gradient:\n",
    "\n",
    "$$\\nabla Q(w) \\approx \\sum_{i=[10, 20, 35]} \\nabla L(y_i, f(x_i, w)) + \\nabla R(w) $$ \n",
    " - three points with numbers 10, 20, 35 were taken ad a random example;\n",
    " - number of points used for gradient estimation is called *Batch size*."
   ]
  },
  {
   "cell_type": "markdown",
   "metadata": {
    "slideshow": {
     "slide_type": "slide"
    }
   },
   "source": [
    "## Optimization approaches"
   ]
  },
  {
   "cell_type": "markdown",
   "metadata": {
    "slideshow": {
     "slide_type": "subslide"
    }
   },
   "source": [
    "The gradient descent has several drawbacks (to discuss), so there are other methods\n",
    "- momentum\n",
    "- Nesterov momentum\n",
    "- Adagrad\n",
    "\n",
    "See http://sebastianruder.com/optimizing-gradient-descent/index.html for details"
   ]
  },
  {
   "cell_type": "markdown",
   "metadata": {
    "slideshow": {
     "slide_type": "subslide"
    }
   },
   "source": [
    "<div style=\"width:100%; text-align:center\">\n",
    "<img src=http://sebastianruder.com/content/images/2016/09/contours_evaluation_optimizers.gif width=500px>\n",
    "</div>"
   ]
  },
  {
   "cell_type": "markdown",
   "metadata": {
    "slideshow": {
     "slide_type": "subslide"
    }
   },
   "source": [
    "<div style=\"width:100%; text-align:center\">\n",
    "<img src=http://sebastianruder.com/content/images/2016/09/saddle_point_evaluation_optimizers.gif width=500px>\n",
    "</div>"
   ]
  },
  {
   "cell_type": "markdown",
   "metadata": {
    "slideshow": {
     "slide_type": "slide"
    }
   },
   "source": [
    "## Multilayer perceptron"
   ]
  },
  {
   "cell_type": "markdown",
   "metadata": {
    "slideshow": {
     "slide_type": "subslide"
    }
   },
   "source": [
    "Lets play with the [tensorFlow playground](http://playground.tensorflow.org/#activation=tanh&batchSize=10&dataset=circle&regDataset=reg-plane&learningRate=0.03&regularizationRate=0&noise=0&networkShape=&seed=0.13325&showTestData=false&discretize=false&percTrainData=50&x=true&y=true&xTimesY=false&xSquared=false&ySquared=false&cosX=false&sinX=false&cosY=false&sinY=false&collectStats=false&problem=classification&initZero=false&hideText=false&discretize_hide=false)!\n",
    "\n",
    "TODO:\n",
    " - start with a simple logistic regression, try different datasets;\n",
    " - add new features;\n",
    " - play with SGD parameters (Learning rate, Batch size)\n",
    " - remove all additional features, add new layers & build a multilayer fully connected layer"
   ]
  },
  {
   "cell_type": "markdown",
   "metadata": {
    "slideshow": {
     "slide_type": "subslide"
    }
   },
   "source": [
    "## Activation functions (ReLu, Tanh)"
   ]
  },
  {
   "cell_type": "code",
   "execution_count": 10,
   "metadata": {
    "collapsed": true,
    "slideshow": {
     "slide_type": "subslide"
    }
   },
   "outputs": [],
   "source": [
    "# TODO: plot tanh function vs Relu (f(x)= max(0, x)) "
   ]
  },
  {
   "cell_type": "markdown",
   "metadata": {
    "slideshow": {
     "slide_type": "subslide"
    }
   },
   "source": [
    "Lets play with the [tensorFlow playground](http://playground.tensorflow.org/#activation=tanh&batchSize=10&dataset=circle&regDataset=reg-plane&learningRate=0.03&regularizationRate=0&noise=0&networkShape=&seed=0.13325&showTestData=false&discretize=false&percTrainData=50&x=true&y=true&xTimesY=false&xSquared=false&ySquared=false&cosX=false&sinX=false&cosY=false&sinY=false&collectStats=false&problem=classification&initZero=false&hideText=false&discretize_hide=false)!\n",
    "\n",
    "TODO:\n",
    " - try to solve the spiral problem using tanh\n",
    " - replace tanh by ReLu & try again"
   ]
  },
  {
   "cell_type": "markdown",
   "metadata": {
    "slideshow": {
     "slide_type": "subslide"
    }
   },
   "source": [
    "## Early Stopping"
   ]
  },
  {
   "cell_type": "markdown",
   "metadata": {
    "slideshow": {
     "slide_type": "subslide"
    }
   },
   "source": [
    "<div style=\"width:100%; text-align:center\">\n",
    "<img src=https://www.researchgate.net/profile/Giuseppina_Gini/publication/4310358/figure/fig2/AS:279627110076459@1443679706731/Fig-5-The-early-stopping-criterion.png width=500px>\n",
    "</div>"
   ]
  },
  {
   "cell_type": "markdown",
   "metadata": {
    "slideshow": {
     "slide_type": "subslide"
    }
   },
   "source": [
    "## Dropout"
   ]
  },
  {
   "cell_type": "markdown",
   "metadata": {
    "slideshow": {
     "slide_type": "subslide"
    }
   },
   "source": [
    "<div style=\"width:100%; text-align:center\">\n",
    "<img src=http://engineering.flipboard.com/assets/convnets/dropout.png width=500px>\n",
    "</div>"
   ]
  },
  {
   "cell_type": "markdown",
   "metadata": {
    "slideshow": {
     "slide_type": "subslide"
    }
   },
   "source": [
    "<div style=\"width:100%; text-align:center\">\n",
    "<img src=http://danielnouri.org/media/kfkd/lc2.png width=500px>\n",
    "</div>"
   ]
  },
  {
   "cell_type": "markdown",
   "metadata": {
    "slideshow": {
     "slide_type": "subslide"
    }
   },
   "source": [
    "## Convolutional networks"
   ]
  },
  {
   "cell_type": "markdown",
   "metadata": {
    "slideshow": {
     "slide_type": "subslide"
    }
   },
   "source": [
    "<div style=\"width:100%; text-align:center\">\n",
    "<img src=http://deeplearning.stanford.edu/wiki/images/6/6c/Convolution_schematic.gif width=500px>\n",
    "</div>\n",
    "\n",
    "[Stanford deep learning tutorial.](http://ufldl.stanford.edu/tutorial/supervised/FeatureExtractionUsingConvolution/)"
   ]
  },
  {
   "cell_type": "markdown",
   "metadata": {
    "slideshow": {
     "slide_type": "subslide"
    }
   },
   "source": [
    "#### Max - Pooling \n",
    "\n",
    "<div style=\"width:100%; text-align:center\">\n",
    "<img src=https://qph.ec.quoracdn.net/main-qimg-8afedfb2f82f279781bfefa269bc6a90 width=500px>\n",
    "</div>\n"
   ]
  },
  {
   "cell_type": "markdown",
   "metadata": {
    "slideshow": {
     "slide_type": "subslide"
    }
   },
   "source": [
    "#### Hierarchical feature extraction\n",
    "Deeper layers -> more structured and complex patterns"
   ]
  },
  {
   "cell_type": "markdown",
   "metadata": {
    "slideshow": {
     "slide_type": "subslide"
    }
   },
   "source": [
    "<div style=\"width:100%; text-align:center\">\n",
    "<img src=http://engineering.flipboard.com/assets/convnets/yann_filters.png>\n",
    "</div>\n",
    "\n",
    "[Yann Lecun “ICML 2013 tutorial on Deep Learning”](http://www.cs.nyu.edu/~yann/talks/lecun-ranzato-icml2013.pdf)"
   ]
  },
  {
   "cell_type": "markdown",
   "metadata": {
    "slideshow": {
     "slide_type": "subslide"
    }
   },
   "source": [
    "Modern conv nets are deep\n",
    "\n",
    "<div style=\"width:100%; text-align:center\">\n",
    "<img src=https://writelatex.s3.amazonaws.com/jrvbwfrsywbm/att/f32a655e267fc12ac892f1bedda068b2.png>\n",
    "</div>\n"
   ]
  },
  {
   "cell_type": "markdown",
   "metadata": {
    "slideshow": {
     "slide_type": "subslide"
    }
   },
   "source": [
    "<div style=\"width:100%; text-align:center\">\n",
    "<img src=https://image.slidesharecdn.com/dlcvd2l4imagenet-160802094728/95/deep-learning-for-computer-vision-imagenet-challenge-upc-2016-4-638.jpg>\n",
    "</div>"
   ]
  },
  {
   "cell_type": "markdown",
   "metadata": {
    "slideshow": {
     "slide_type": "subslide"
    }
   },
   "source": [
    "Actually they are extremely deep!\n",
    "\n",
    "<div style=\"width:100%; text-align:center\">\n",
    "<img src=https://image.slidesharecdn.com/dlcvd2l4imagenet-160802094728/95/deep-learning-for-computer-vision-imagenet-challenge-upc-2016-48-638.jpg>\n",
    "</div>\n",
    "\n",
    "[Deep Learning for Computer Vision: ImageNet Challenge](https://www.slideshare.net/xavigiro/deep-learning-for-computer-vision-imagenet-challenge-upc-2016)"
   ]
  },
  {
   "cell_type": "markdown",
   "metadata": {
    "slideshow": {
     "slide_type": "subslide"
    }
   },
   "source": [
    "3D image classification example\n",
    "<div style=\"width:100%; text-align:center\">\n",
    "<img src=https://writelatex.s3.amazonaws.com/jrvbwfrsywbm/att/1e0e7734f4976722cc858543a3f4847d.png>\n",
    "</div>\n",
    "[Residual and Plain Convolutional Neural Networks for 3D Brain MRI Classification](https://arxiv.org/abs/1701.06643)"
   ]
  },
  {
   "cell_type": "markdown",
   "metadata": {
    "slideshow": {
     "slide_type": "slide"
    }
   },
   "source": [
    "## Image segmentation "
   ]
  },
  {
   "cell_type": "markdown",
   "metadata": {
    "slideshow": {
     "slide_type": "subslide"
    }
   },
   "source": [
    "Object Recognition / Detection\n",
    "<div style=\"width:100%; text-align:center\">\n",
    "<img src=https://i.imgur.com/9Y14Jo1.jpg?1>\n",
    "</div>\n",
    "\n",
    "- [Image segmentation](https://leonardoaraujosantos.gitbooks.io/artificial-inteligence/content/image_segmentation.html)"
   ]
  },
  {
   "cell_type": "markdown",
   "metadata": {
    "slideshow": {
     "slide_type": "subslide"
    }
   },
   "source": [
    "Segmentation\n",
    "<div style=\"width:100%; text-align:center\">\n",
    "<img src=https://i.imgur.com/BthG0K9.png?1>\n",
    "</div>\n",
    "- [Image segmentation](https://leonardoaraujosantos.gitbooks.io/artificial-inteligence/content/image_segmentation.html)"
   ]
  },
  {
   "cell_type": "markdown",
   "metadata": {
    "slideshow": {
     "slide_type": "subslide"
    }
   },
   "source": [
    "Semantic Segmentation\n",
    "<div style=\"width:100%; text-align:center\">\n",
    "<img src=https://i.imgur.com/69SQFsT.png?1>\n",
    "</div>\n",
    "- [Image segmentation](https://leonardoaraujosantos.gitbooks.io/artificial-inteligence/content/image_segmentation.html)"
   ]
  },
  {
   "cell_type": "markdown",
   "metadata": {
    "slideshow": {
     "slide_type": "subslide"
    }
   },
   "source": [
    "Instance segmentation\n",
    "<div style=\"width:100%; text-align:center\">\n",
    "<img src=https://i.stack.imgur.com/mPFUo.jpg>\n",
    "</div>\n",
    "- [Image segmentation](https://leonardoaraujosantos.gitbooks.io/artificial-inteligence/content/image_segmentation.html)"
   ]
  },
  {
   "cell_type": "markdown",
   "metadata": {
    "slideshow": {
     "slide_type": "subslide"
    }
   },
   "source": [
    "3D Image Semantic Segmentation\n",
    "\n",
    "<div style=\"width:100%; text-align:center\">\n",
    "<img src=https://sites.google.com/site/braintumorsegmentation/_/rsrc/1431350844030/home/brats_tasks.png>\n",
    "</div>\n",
    "[Brain tumor segmentation challenge](http://braintumorsegmentation.org)"
   ]
  },
  {
   "cell_type": "markdown",
   "metadata": {
    "slideshow": {
     "slide_type": "slide"
    }
   },
   "source": [
    "## Dimensionality reduction witn DL\n",
    "### Autoencoders\n",
    "<div style=\"width:100%; text-align:center\">\n",
    "<img src=http://ufldl.stanford.edu/tutorial/images/Autoencoder636.png>\n",
    "</div>\n",
    "\n",
    "\n"
   ]
  },
  {
   "cell_type": "markdown",
   "metadata": {
    "slideshow": {
     "slide_type": "slide"
    }
   },
   "source": [
    "## Recurrent Neural Networks"
   ]
  },
  {
   "cell_type": "markdown",
   "metadata": {
    "slideshow": {
     "slide_type": "subslide"
    }
   },
   "source": [
    "<div style=\"width:100%; text-align:center\">\n",
    "<img src=http://colah.github.io/posts/2015-08-Understanding-LSTMs/img/RNN-unrolled.png>\n",
    "</div>\n",
    "\n",
    "[Understanding-LSTMs](http://colah.github.io/posts/2015-08-Understanding-LSTMs/)"
   ]
  },
  {
   "cell_type": "markdown",
   "metadata": {
    "slideshow": {
     "slide_type": "subslide"
    }
   },
   "source": [
    "### LSTM"
   ]
  },
  {
   "cell_type": "markdown",
   "metadata": {
    "slideshow": {
     "slide_type": "fragment"
    }
   },
   "source": [
    "<div style=\"width:100%; text-align:center\">\n",
    "<img src=http://colah.github.io/posts/2015-08-Understanding-LSTMs/img/LSTM3-chain.png>\n",
    "</div>\n",
    "[Understanding-LSTMs](http://colah.github.io/posts/2015-08-Understanding-LSTMs/)"
   ]
  },
  {
   "cell_type": "markdown",
   "metadata": {
    "slideshow": {
     "slide_type": "subslide"
    }
   },
   "source": [
    "### An example of the LSTM-generated text\n",
    "\n",
    "### Он почувствовал себя не в силах думать о том, как он не приезжал к нему после последнего предмета. Борис подошел к ней. Он увидал себя одним из придворных домов и что нибудь приятно было на этой женщине. Она отвечала себе: он уже не приходил к этому настроению. Везде было еще более просто и бессмысленно, и в обществе не имела вопрос о нем, а может быть, и все таки не может быть свадьба моего превосходства и свое веселое чувство волнения, события, как к событиям, как он намерен был найти из обеда. Во всех полициях и военных он не согласился от выгодного мира и принять все свои места. Он только вопросительно наклонил голову и сел на диван."
   ]
  },
  {
   "cell_type": "markdown",
   "metadata": {
    "slideshow": {
     "slide_type": "subslide"
    }
   },
   "source": [
    "Bidirectional RNN\n",
    "\n",
    "<div style=\"width:100%; text-align:center\">\n",
    "<img src=https://devblogs.nvidia.com/wp-content/uploads/2015/02/rnn_fig-624x548.png>\n",
    "</div>\n",
    "\n",
    "\n",
    "[Deep speech](https://arxiv.org/abs/1412.5567)"
   ]
  },
  {
   "cell_type": "markdown",
   "metadata": {
    "slideshow": {
     "slide_type": "slide"
    }
   },
   "source": [
    "## Reinforcement Learning"
   ]
  },
  {
   "cell_type": "code",
   "execution_count": 2,
   "metadata": {
    "collapsed": true,
    "slideshow": {
     "slide_type": "subslide"
    }
   },
   "outputs": [],
   "source": [
    "from IPython.display import HTML"
   ]
  },
  {
   "cell_type": "code",
   "execution_count": 3,
   "metadata": {
    "slideshow": {
     "slide_type": "subslide"
    }
   },
   "outputs": [
    {
     "data": {
      "text/html": [
       "<iframe width=\"560\" height=\"315\"      src=\"https://www.youtube.com/embed/V1eYniJ0Rnk?rel=0&amp;controls=0&amp;showinfo=0\"      frameborder=\"0\" allowfullscreen></iframe>"
      ],
      "text/plain": [
       "<IPython.core.display.HTML object>"
      ]
     },
     "execution_count": 3,
     "metadata": {},
     "output_type": "execute_result"
    }
   ],
   "source": [
    "HTML('<iframe width=\"560\" height=\"315\" \\\n",
    "     src=\"https://www.youtube.com/embed/V1eYniJ0Rnk?rel=0&amp;controls=0&amp;showinfo=0\" \\\n",
    "     frameborder=\"0\" allowfullscreen></iframe>')"
   ]
  },
  {
   "cell_type": "markdown",
   "metadata": {
    "slideshow": {
     "slide_type": "subslide"
    }
   },
   "source": [
    "[Demystifying Deep Reinforcement Learning](https://www.nervanasys.com/demystifying-deep-reinforcement-learning/)"
   ]
  },
  {
   "cell_type": "markdown",
   "metadata": {
    "slideshow": {
     "slide_type": "subslide"
    }
   },
   "source": [
    "<div style=\"width:100%; text-align:center\">\n",
    "<img src=http://www.ultimaratioregum.co.uk/game/files/2016/03/alphagonature.jpg>\n",
    "</div>\n",
    "[Google DeepMind's AlphaGo: How it works](https://www.tastehit.com/blog/google-deepmind-alphago-how-it-works/)"
   ]
  },
  {
   "cell_type": "markdown",
   "metadata": {
    "slideshow": {
     "slide_type": "subslide"
    }
   },
   "source": [
    "<div style=\"width:100%; text-align:center\">\n",
    "<img src=https://www.tastehit.com/blog/content/images/2016/03/policy-value-networks.png>\n",
    "</div>\n",
    "[Google DeepMind's AlphaGo: How it works](https://www.tastehit.com/blog/google-deepmind-alphago-how-it-works/)"
   ]
  },
  {
   "cell_type": "markdown",
   "metadata": {
    "slideshow": {
     "slide_type": "subslide"
    }
   },
   "source": [
    "## Generative Adversarial Networks"
   ]
  },
  {
   "cell_type": "markdown",
   "metadata": {
    "slideshow": {
     "slide_type": "subslide"
    }
   },
   "source": [
    "<div style=\"width:100%; text-align:center\">\n",
    "<img src=https://cdn-images-1.medium.com/max/800/1*-gFsbymY9oJUQJ-A3GTfeg.png>\n",
    "</div>\n",
    "[Generative Adversarial Networks (GANs) in 50 lines of code (PyTorch)](https://medium.com/@devnag/generative-adversarial-networks-gans-in-50-lines-of-code-pytorch-e81b79659e3f)"
   ]
  },
  {
   "cell_type": "markdown",
   "metadata": {
    "slideshow": {
     "slide_type": "subslide"
    }
   },
   "source": [
    "<div style=\"width:100%; text-align:center\">\n",
    "<img src=http://kvfrans.com/content/images/2016/06/gencnn-afe135ff8d2725325a22455a488562b0e1cb7ac6a3f60b3cecb373fd043eb202.svg>\n",
    "</div>\n",
    "[Generative Adversarial Networks Explained](http://kvfrans.com/generative-adversial-networks-explained/)"
   ]
  },
  {
   "cell_type": "markdown",
   "metadata": {
    "slideshow": {
     "slide_type": "subslide"
    }
   },
   "source": [
    "<div style=\"width:100%; text-align:center\">\n",
    "<img src=http://kvfrans.com/content/images/2016/06/cifar-early.png>\n",
    "</div>\n",
    "[Generative Adversarial Networks Explained](http://kvfrans.com/generative-adversial-networks-explained/)"
   ]
  },
  {
   "cell_type": "markdown",
   "metadata": {
    "slideshow": {
     "slide_type": "slide"
    }
   },
   "source": [
    "## Software & hardware "
   ]
  },
  {
   "cell_type": "markdown",
   "metadata": {
    "slideshow": {
     "slide_type": "subslide"
    }
   },
   "source": [
    "Libraries\n",
    " - Theano and Lasagne\n",
    " - Tensorflow\n",
    " - PyTorch\n",
    "\n",
    "https://www.reddit.com/r/MachineLearning/comments/5w3q74/d_so_pytorch_vs_tensorflow_whats_the_verdict_on/"
   ]
  },
  {
   "cell_type": "markdown",
   "metadata": {
    "slideshow": {
     "slide_type": "subslide"
    }
   },
   "source": [
    "## Links"
   ]
  },
  {
   "cell_type": "markdown",
   "metadata": {
    "slideshow": {
     "slide_type": "subslide"
    }
   },
   "source": [
    "1. Python Libraries \n",
    " - Tensorflow, https://www.tensorflow.org/\n",
    " - Keras, a higher level lib, http://keras.io\n",
    " - PyTorch,  https://www.pytorch.org/ \n",
    "\n",
    "2. Basic materials:\n",
    " - A good introductory text for shallow networks http://neuralnetworksanddeeplearning.com\n",
    " - A nice practical intro to several important aspects of DL\n",
    "http://danielnouri.org/notes/2014/12/17/using-convolutional-neural-nets-to-detect-facial-keypoints-tutorial/\n",
    "\n",
    "3. Some additional links\n",
    "  - winning solution of the Plankton classification contest (more than 1000 participants; 175k \\$ in the prizes):\n",
    "http://benanne.github.io/2015/03/17/plankton.html\n",
    " - Convert words to vectors: http://sebastianruder.com/word-embeddings-1/\n",
    " - A pair of posts about AlphaGO:\n",
    "   - is it really important? : https://www.quantamagazine.org/20160329-why-alphago-is-really-such-a-big-deal/\n",
    "   - technical review of the algorithm: http://deeplearningskysthelimit.blogspot.ru/2016/04/part-2-alphago-under-magnifying-glass.html"
   ]
  },
  {
   "cell_type": "code",
   "execution_count": null,
   "metadata": {
    "collapsed": true
   },
   "outputs": [],
   "source": []
  }
 ],
 "metadata": {
  "anaconda-cloud": {},
  "celltoolbar": "Slideshow",
  "kernelspec": {
   "display_name": "Python 3",
   "language": "python",
   "name": "python3"
  },
  "language_info": {
   "codemirror_mode": {
    "name": "ipython",
    "version": 3
   },
   "file_extension": ".py",
   "mimetype": "text/x-python",
   "name": "python",
   "nbconvert_exporter": "python",
   "pygments_lexer": "ipython3",
   "version": "3.6.1"
  }
 },
 "nbformat": 4,
 "nbformat_minor": 1
}
